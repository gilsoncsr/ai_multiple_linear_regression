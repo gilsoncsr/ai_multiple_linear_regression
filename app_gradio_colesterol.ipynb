{
 "cells": [
  {
   "cell_type": "code",
   "execution_count": 1,
   "metadata": {},
   "outputs": [
    {
     "name": "stderr",
     "output_type": "stream",
     "text": [
      "c:\\Users\\ghost\\.virtualenvs\\ai_multiple_linear_regression-sVzQ5AWq\\Lib\\site-packages\\tqdm\\auto.py:21: TqdmWarning: IProgress not found. Please update jupyter and ipywidgets. See https://ipywidgets.readthedocs.io/en/stable/user_install.html\n",
      "  from .autonotebook import tqdm as notebook_tqdm\n"
     ]
    }
   ],
   "source": [
    "import gradio as gr\n",
    "import joblib\n",
    "import pandas as pd"
   ]
  },
  {
   "cell_type": "code",
   "execution_count": 2,
   "metadata": {},
   "outputs": [],
   "source": [
    "modelo = joblib.load('./modelo_colesterol.pkl')"
   ]
  },
  {
   "cell_type": "code",
   "execution_count": 3,
   "metadata": {},
   "outputs": [],
   "source": [
    "def predict(grupo_sanguineo, fumante, nivel_atividade_fisica, idade, peso, altura):\n",
    "    _fumante = 'Sim' if fumante else 'Não'\n",
    "\n",
    "    predicao_individual = {\n",
    "        'grupo_sanguineo': [grupo_sanguineo],\n",
    "        'fumante': [_fumante],\n",
    "        'nivel_atividade_fisica': [nivel_atividade_fisica],\n",
    "        'idade': [idade],\n",
    "        'peso': [peso],\n",
    "        'altura': [altura]\n",
    "    }\n",
    "\n",
    "    predict_df = pd.DataFrame(predicao_individual)\n",
    "\n",
    "    try:\n",
    "        colesterol = modelo.predict(predict_df)\n",
    "        return float(colesterol[0])\n",
    "    except Exception as e:\n",
    "        print(f\"Erro na predição: {e}\")\n",
    "        return \"Erro na predição\"\n"
   ]
  },
  {
   "cell_type": "code",
   "execution_count": 4,
   "metadata": {},
   "outputs": [],
   "source": [
    "demo = gr.Interface(\n",
    "    fn=predict,\n",
    "    inputs=[\n",
    "        gr.Radio(['O', 'A', 'B', 'AB'], label=\"Grupo Sanguíneo\", value='O'),\n",
    "        gr.Checkbox(label=\"Fumante\"),\n",
    "        gr.Radio(['Baixo', 'Moderado', 'Alto'], label=\"Nível de Atividade Física\", value='Moderado'),\n",
    "        gr.Slider(20, 80, step=1, label=\"Idade\"),\n",
    "        gr.Slider(40, 160, step=0.1, label=\"Peso\"),\n",
    "        gr.Slider(150, 200, step=1, label=\"Altura\")\n",
    "    ],\n",
    "    outputs=\"number\"\n",
    ")"
   ]
  },
  {
   "cell_type": "code",
   "execution_count": 5,
   "metadata": {},
   "outputs": [
    {
     "name": "stdout",
     "output_type": "stream",
     "text": [
      "* Running on local URL:  http://127.0.0.1:7860\n",
      "\n",
      "Could not create share link. Please check your internet connection or our status page: https://status.gradio.app.\n"
     ]
    },
    {
     "data": {
      "text/html": [
       "<div><iframe src=\"http://127.0.0.1:7860/\" width=\"100%\" height=\"500\" allow=\"autoplay; camera; microphone; clipboard-read; clipboard-write;\" frameborder=\"0\" allowfullscreen></iframe></div>"
      ],
      "text/plain": [
       "<IPython.core.display.HTML object>"
      ]
     },
     "metadata": {},
     "output_type": "display_data"
    },
    {
     "data": {
      "text/plain": []
     },
     "execution_count": 5,
     "metadata": {},
     "output_type": "execute_result"
    }
   ],
   "source": [
    "demo.launch(share=True)"
   ]
  }
 ],
 "metadata": {
  "kernelspec": {
   "display_name": "ai_multiple_linear_regression-sVzQ5AWq",
   "language": "python",
   "name": "python3"
  },
  "language_info": {
   "codemirror_mode": {
    "name": "ipython",
    "version": 3
   },
   "file_extension": ".py",
   "mimetype": "text/x-python",
   "name": "python",
   "nbconvert_exporter": "python",
   "pygments_lexer": "ipython3",
   "version": "3.13.1"
  }
 },
 "nbformat": 4,
 "nbformat_minor": 2
}
